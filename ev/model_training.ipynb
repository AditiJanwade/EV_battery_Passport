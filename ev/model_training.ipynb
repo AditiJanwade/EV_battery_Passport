{
 "cells": [
  {
   "cell_type": "code",
   "execution_count": 1,
   "id": "bef975a1",
   "metadata": {},
   "outputs": [],
   "source": [
    "import pandas as pd\n",
    "from sklearn.model_selection import train_test_split\n",
    "from sklearn.preprocessing import StandardScaler, OneHotEncoder\n",
    "from sklearn.compose import ColumnTransformer\n",
    "from sklearn.pipeline import Pipeline\n",
    "from sklearn.linear_model import LinearRegression\n",
    "from sklearn.ensemble import RandomForestRegressor, GradientBoostingRegressor\n",
    "from sklearn.metrics import mean_absolute_error, r2_score\n",
    "import joblib\n",
    "\n"
   ]
  },
  {
   "cell_type": "code",
   "execution_count": 2,
   "id": "d1453518",
   "metadata": {},
   "outputs": [],
   "source": [
    "# 1. Load Data\n",
    "# Assuming 'ev_battery_charging_data.csv' is in the same directory\n",
    "df = pd.read_csv('ev_battery_charging_data.csv')\n",
    "\n"
   ]
  },
  {
   "cell_type": "code",
   "execution_count": 3,
   "id": "6068b810",
   "metadata": {},
   "outputs": [],
   "source": [
    "# 2. Select Features and Target\n",
    "# Features (X) based on user's request (2-3 features)\n",
    "# We choose: Battery Type, Charging Duration, and Charging Cycles\n",
    "X = df[['Battery Type', 'Charging Duration (min)', 'Charging Cycles']]\n",
    "y = df['Degradation Rate (%)']\n",
    "\n"
   ]
  },
  {
   "cell_type": "code",
   "execution_count": 4,
   "id": "aaedcf2f",
   "metadata": {},
   "outputs": [],
   "source": [
    "# 3. Preprocessing Setup\n",
    "# Identify categorical and numerical features\n",
    "categorical_features = ['Battery Type']\n",
    "numerical_features = ['Charging Duration (min)', 'Charging Cycles']\n",
    "\n",
    "# Create preprocessor pipeline for scaling numeric and one-hot encoding categorical\n",
    "preprocessor = ColumnTransformer(\n",
    "    transformers=[\n",
    "        ('num', StandardScaler(), numerical_features),\n",
    "        ('cat', OneHotEncoder(handle_unknown='ignore'), categorical_features)\n",
    "    ],\n",
    "    remainder='passthrough'\n",
    ")\n",
    "\n"
   ]
  },
  {
   "cell_type": "code",
   "execution_count": 5,
   "id": "b27af81d",
   "metadata": {},
   "outputs": [],
   "source": [
    "# 4. Split Data\n",
    "X_train, X_test, y_train, y_test = train_test_split(X, y, test_size=0.2, random_state=42)\n",
    "\n"
   ]
  },
  {
   "cell_type": "code",
   "execution_count": 6,
   "id": "82780122",
   "metadata": {},
   "outputs": [
    {
     "name": "stdout",
     "output_type": "stream",
     "text": [
      "--- Linear Regression ---\n",
      "Mean Absolute Error (MAE): 1.0934\n",
      "R-squared (R2): 0.7422\n",
      "\n",
      "--- Random Forest Regressor ---\n",
      "Mean Absolute Error (MAE): 1.1665\n",
      "R-squared (R2): 0.7055\n",
      "\n",
      "--- Gradient Boosting Regressor ---\n",
      "Mean Absolute Error (MAE): 1.0803\n",
      "R-squared (R2): 0.7384\n",
      "\n"
     ]
    }
   ],
   "source": [
    "# 5. Model Training and Evaluation\n",
    "\n",
    "models = {\n",
    "    \"Linear Regression\": LinearRegression(),\n",
    "    \"Random Forest Regressor\": RandomForestRegressor(n_estimators=100, random_state=42),\n",
    "    \"Gradient Boosting Regressor\": GradientBoostingRegressor(n_estimators=100, learning_rate=0.1, max_depth=3, random_state=42)\n",
    "}\n",
    "\n",
    "results = {}\n",
    "best_model_name = \"\"\n",
    "best_mae = float('inf')\n",
    "\n",
    "for name, model in models.items():\n",
    "    # Create a full pipeline (preprocessor + model)\n",
    "    pipeline = Pipeline(steps=[('preprocessor', preprocessor),\n",
    "                               ('regressor', model)])\n",
    "    \n",
    "    # Train the model\n",
    "    pipeline.fit(X_train, y_train)\n",
    "    \n",
    "    # Predict and evaluate\n",
    "    y_pred = pipeline.predict(X_test)\n",
    "    \n",
    "    mae = mean_absolute_error(y_test, y_pred)\n",
    "    r2 = r2_score(y_test, y_pred)\n",
    "    \n",
    "    results[name] = {\"MAE\": mae, \"R2\": r2, \"Model_Pipeline\": pipeline}\n",
    "    \n",
    "    print(f\"--- {name} ---\")\n",
    "    print(f\"Mean Absolute Error (MAE): {mae:.4f}\")\n",
    "    print(f\"R-squared (R2): {r2:.4f}\\n\")\n",
    "    \n",
    "    # Choose Best Model (Minimize MAE)\n",
    "    if mae < best_mae:\n",
    "        best_mae = mae\n",
    "        best_model_name = name\n",
    "\n"
   ]
  },
  {
   "cell_type": "code",
   "execution_count": 7,
   "id": "8389db8f",
   "metadata": {},
   "outputs": [
    {
     "name": "stdout",
     "output_type": "stream",
     "text": [
      "Selected Best Model: Gradient Boosting Regressor with MAE: 1.0803\n",
      "Model saved as battery_model.pkl\n"
     ]
    }
   ],
   "source": [
    "# 6. Save the Best Model\n",
    "best_pipeline = results[best_model_name]['Model_Pipeline']\n",
    "joblib.dump(best_pipeline, 'battery_model.pkl')\n",
    "\n",
    "print(f\"Selected Best Model: {best_model_name} with MAE: {best_mae:.4f}\")\n",
    "print(\"Model saved as battery_model.pkl\")"
   ]
  },
  {
   "cell_type": "code",
   "execution_count": null,
   "id": "344e0be4",
   "metadata": {},
   "outputs": [],
   "source": []
  }
 ],
 "metadata": {
  "kernelspec": {
   "display_name": "venv (3.11.4)",
   "language": "python",
   "name": "python3"
  },
  "language_info": {
   "codemirror_mode": {
    "name": "ipython",
    "version": 3
   },
   "file_extension": ".py",
   "mimetype": "text/x-python",
   "name": "python",
   "nbconvert_exporter": "python",
   "pygments_lexer": "ipython3",
   "version": "3.11.4"
  }
 },
 "nbformat": 4,
 "nbformat_minor": 5
}
